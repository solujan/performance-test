{
  "nbformat": 4,
  "nbformat_minor": 0,
  "metadata": {
    "colab": {
      "name": "Untitled3.ipynb",
      "version": "0.3.2",
      "provenance": [],
      "collapsed_sections": []
    },
    "kernelspec": {
      "name": "python3",
      "display_name": "Python 3"
    }
  },
  "cells": [
    {
      "metadata": {
        "id": "nidQMypdp2-h",
        "colab_type": "code",
        "colab": {}
      },
      "cell_type": "code",
      "source": [
        "%matplotlib inline\n",
        "import matplotlib.pyplot as plt\n",
        "import numpy\n",
        "import pandas\n",
        "import seaborn"
      ],
      "execution_count": 0,
      "outputs": []
    },
    {
      "metadata": {
        "id": "e-90laanr7J2",
        "colab_type": "code",
        "colab": {}
      },
      "cell_type": "code",
      "source": [
        "dataset = pandas.read_csv(\n",
        "    'myer_thread_max_total_per_route.csv')"
      ],
      "execution_count": 0,
      "outputs": []
    },
    {
      "metadata": {
        "id": "TaJ7C2jQxRa3",
        "colab_type": "code",
        "outputId": "5bbb3ecc-373c-4a46-c956-cf2e8af5930f",
        "colab": {
          "base_uri": "https://localhost:8080/",
          "height": 35
        }
      },
      "cell_type": "code",
      "source": [
        "\n",
        "seaborn.__version__"
      ],
      "execution_count": 23,
      "outputs": [
        {
          "output_type": "execute_result",
          "data": {
            "text/plain": [
              "'0.9.0'"
            ]
          },
          "metadata": {
            "tags": []
          },
          "execution_count": 23
        }
      ]
    },
    {
      "metadata": {
        "id": "61OIPWGosDzc",
        "colab_type": "code",
        "outputId": "66c6009c-84f1-42e9-d3e5-5ba56a0f33af",
        "colab": {
          "base_uri": "https://localhost:8080/",
          "height": 124
        }
      },
      "cell_type": "code",
      "source": [
        "dataset.columns"
      ],
      "execution_count": 24,
      "outputs": [
        {
          "output_type": "execute_result",
          "data": {
            "text/plain": [
              "Index(['timeStamp', 'elapsed', 'label', 'responseCode', 'responseMessage',\n",
              "       'threadName', 'dataType', 'success', 'failureMessage', 'bytes',\n",
              "       'grpThreads', 'allThreads', 'URL', 'Filename', 'Latency', 'Encoding',\n",
              "       'SampleCount', 'ErrorCount', 'Hostname', 'IdleTime', 'Connect', 'type',\n",
              "       'number', 'threads'],\n",
              "      dtype='object')"
            ]
          },
          "metadata": {
            "tags": []
          },
          "execution_count": 24
        }
      ]
    },
    {
      "metadata": {
        "id": "1W99xfR01KI1",
        "colab_type": "code",
        "outputId": "4fda79ef-2cc8-4f06-8e52-73c307f02cc7",
        "colab": {
          "base_uri": "https://localhost:8080/",
          "height": 328
        }
      },
      "cell_type": "code",
      "source": [
        "dataset.head()"
      ],
      "execution_count": 25,
      "outputs": [
        {
          "output_type": "execute_result",
          "data": {
            "text/html": [
              "<div>\n",
              "<style scoped>\n",
              "    .dataframe tbody tr th:only-of-type {\n",
              "        vertical-align: middle;\n",
              "    }\n",
              "\n",
              "    .dataframe tbody tr th {\n",
              "        vertical-align: top;\n",
              "    }\n",
              "\n",
              "    .dataframe thead th {\n",
              "        text-align: right;\n",
              "    }\n",
              "</style>\n",
              "<table border=\"1\" class=\"dataframe\">\n",
              "  <thead>\n",
              "    <tr style=\"text-align: right;\">\n",
              "      <th></th>\n",
              "      <th>timeStamp</th>\n",
              "      <th>elapsed</th>\n",
              "      <th>label</th>\n",
              "      <th>responseCode</th>\n",
              "      <th>responseMessage</th>\n",
              "      <th>threadName</th>\n",
              "      <th>dataType</th>\n",
              "      <th>success</th>\n",
              "      <th>failureMessage</th>\n",
              "      <th>bytes</th>\n",
              "      <th>...</th>\n",
              "      <th>Latency</th>\n",
              "      <th>Encoding</th>\n",
              "      <th>SampleCount</th>\n",
              "      <th>ErrorCount</th>\n",
              "      <th>Hostname</th>\n",
              "      <th>IdleTime</th>\n",
              "      <th>Connect</th>\n",
              "      <th>type</th>\n",
              "      <th>number</th>\n",
              "      <th>threads</th>\n",
              "    </tr>\n",
              "  </thead>\n",
              "  <tbody>\n",
              "    <tr>\n",
              "      <th>0</th>\n",
              "      <td>12:29:19</td>\n",
              "      <td>1322</td>\n",
              "      <td>GetItemPrice</td>\n",
              "      <td>200</td>\n",
              "      <td>OK</td>\n",
              "      <td>IP 1-1</td>\n",
              "      <td>text</td>\n",
              "      <td>True</td>\n",
              "      <td>NaN</td>\n",
              "      <td>1293</td>\n",
              "      <td>...</td>\n",
              "      <td>1322</td>\n",
              "      <td>ISO-8859-1</td>\n",
              "      <td>1</td>\n",
              "      <td>0</td>\n",
              "      <td>APC-solujan</td>\n",
              "      <td>0</td>\n",
              "      <td>0</td>\n",
              "      <td>2_1</td>\n",
              "      <td>1</td>\n",
              "      <td>15</td>\n",
              "    </tr>\n",
              "    <tr>\n",
              "      <th>1</th>\n",
              "      <td>12:29:19</td>\n",
              "      <td>2226</td>\n",
              "      <td>GetItemPrice</td>\n",
              "      <td>200</td>\n",
              "      <td>OK</td>\n",
              "      <td>IP 1-3</td>\n",
              "      <td>text</td>\n",
              "      <td>True</td>\n",
              "      <td>NaN</td>\n",
              "      <td>1293</td>\n",
              "      <td>...</td>\n",
              "      <td>2226</td>\n",
              "      <td>ISO-8859-1</td>\n",
              "      <td>1</td>\n",
              "      <td>0</td>\n",
              "      <td>APC-solujan</td>\n",
              "      <td>0</td>\n",
              "      <td>0</td>\n",
              "      <td>2_1</td>\n",
              "      <td>2</td>\n",
              "      <td>15</td>\n",
              "    </tr>\n",
              "    <tr>\n",
              "      <th>2</th>\n",
              "      <td>12:29:19</td>\n",
              "      <td>3125</td>\n",
              "      <td>GetItemPrice</td>\n",
              "      <td>200</td>\n",
              "      <td>OK</td>\n",
              "      <td>IP 1-14</td>\n",
              "      <td>text</td>\n",
              "      <td>True</td>\n",
              "      <td>NaN</td>\n",
              "      <td>1293</td>\n",
              "      <td>...</td>\n",
              "      <td>3125</td>\n",
              "      <td>ISO-8859-1</td>\n",
              "      <td>1</td>\n",
              "      <td>0</td>\n",
              "      <td>APC-solujan</td>\n",
              "      <td>0</td>\n",
              "      <td>0</td>\n",
              "      <td>2_1</td>\n",
              "      <td>3</td>\n",
              "      <td>15</td>\n",
              "    </tr>\n",
              "    <tr>\n",
              "      <th>3</th>\n",
              "      <td>12:29:19</td>\n",
              "      <td>4040</td>\n",
              "      <td>GetItemPrice</td>\n",
              "      <td>200</td>\n",
              "      <td>OK</td>\n",
              "      <td>IP 1-6</td>\n",
              "      <td>text</td>\n",
              "      <td>True</td>\n",
              "      <td>NaN</td>\n",
              "      <td>1293</td>\n",
              "      <td>...</td>\n",
              "      <td>4036</td>\n",
              "      <td>ISO-8859-1</td>\n",
              "      <td>1</td>\n",
              "      <td>0</td>\n",
              "      <td>APC-solujan</td>\n",
              "      <td>0</td>\n",
              "      <td>0</td>\n",
              "      <td>2_1</td>\n",
              "      <td>4</td>\n",
              "      <td>15</td>\n",
              "    </tr>\n",
              "    <tr>\n",
              "      <th>4</th>\n",
              "      <td>12:29:19</td>\n",
              "      <td>4949</td>\n",
              "      <td>GetItemPrice</td>\n",
              "      <td>200</td>\n",
              "      <td>OK</td>\n",
              "      <td>IP 1-11</td>\n",
              "      <td>text</td>\n",
              "      <td>True</td>\n",
              "      <td>NaN</td>\n",
              "      <td>1293</td>\n",
              "      <td>...</td>\n",
              "      <td>4949</td>\n",
              "      <td>ISO-8859-1</td>\n",
              "      <td>1</td>\n",
              "      <td>0</td>\n",
              "      <td>APC-solujan</td>\n",
              "      <td>0</td>\n",
              "      <td>0</td>\n",
              "      <td>2_1</td>\n",
              "      <td>5</td>\n",
              "      <td>15</td>\n",
              "    </tr>\n",
              "  </tbody>\n",
              "</table>\n",
              "<p>5 rows × 24 columns</p>\n",
              "</div>"
            ],
            "text/plain": [
              "  timeStamp  elapsed         label  responseCode responseMessage threadName  \\\n",
              "0  12:29:19     1322  GetItemPrice           200              OK     IP 1-1   \n",
              "1  12:29:19     2226  GetItemPrice           200              OK     IP 1-3   \n",
              "2  12:29:19     3125  GetItemPrice           200              OK    IP 1-14   \n",
              "3  12:29:19     4040  GetItemPrice           200              OK     IP 1-6   \n",
              "4  12:29:19     4949  GetItemPrice           200              OK    IP 1-11   \n",
              "\n",
              "  dataType  success  failureMessage  bytes  ...  Latency    Encoding  \\\n",
              "0     text     True             NaN   1293  ...     1322  ISO-8859-1   \n",
              "1     text     True             NaN   1293  ...     2226  ISO-8859-1   \n",
              "2     text     True             NaN   1293  ...     3125  ISO-8859-1   \n",
              "3     text     True             NaN   1293  ...     4036  ISO-8859-1   \n",
              "4     text     True             NaN   1293  ...     4949  ISO-8859-1   \n",
              "\n",
              "  SampleCount  ErrorCount     Hostname IdleTime  Connect  type number  threads  \n",
              "0           1           0  APC-solujan        0        0   2_1      1       15  \n",
              "1           1           0  APC-solujan        0        0   2_1      2       15  \n",
              "2           1           0  APC-solujan        0        0   2_1      3       15  \n",
              "3           1           0  APC-solujan        0        0   2_1      4       15  \n",
              "4           1           0  APC-solujan        0        0   2_1      5       15  \n",
              "\n",
              "[5 rows x 24 columns]"
            ]
          },
          "metadata": {
            "tags": []
          },
          "execution_count": 25
        }
      ]
    },
    {
      "metadata": {
        "id": "TeR7OSrX0CpV",
        "colab_type": "text"
      },
      "cell_type": "markdown",
      "source": [
        "### Analisis de 15 Threads\n",
        "---\n",
        "\n",
        "Precondiciones:\n",
        "\n",
        "\n",
        "*   60 segundos\n",
        "*   15 Threds\n",
        "*   dev environment\n",
        "\n",
        "\n"
      ]
    },
    {
      "metadata": {
        "id": "k_I2ijbUtNA2",
        "colab_type": "code",
        "outputId": "c9f6cf22-429e-4c9a-8728-5ad97a261097",
        "colab": {
          "base_uri": "https://localhost:8080/",
          "height": 609
        }
      },
      "cell_type": "code",
      "source": [
        "\n",
        "dataset_15 = dataset[dataset['threads']==50]\n",
        "plt.figure(figsize=(18,10))\n",
        "seaborn.lineplot(data=dataset_15, x='number', y='elapsed', hue='type')\n",
        "seaborn.despine(left=True)"
      ],
      "execution_count": 40,
      "outputs": [
        {
          "output_type": "display_data",
          "data": {
            "image/png": "[encoded data removed]",
            "text/plain": [
              "<Figure size 1296x720 with 1 Axes>"
            ]
          },
          "metadata": {
            "tags": []
          }
        }
      ]
    },
    {
      "metadata": {
        "id": "7klhoFMs2HE9",
        "colab_type": "code",
        "colab": {}
      },
      "cell_type": "code",
      "source": [
        "  dataset_undertow = pandas.read_csv(\n",
        "    'myer_undertow_30th.csv')\n"
      ],
      "execution_count": 0,
      "outputs": []
    },
    {
      "metadata": {
        "id": "zlHFLXE9fKp5",
        "colab_type": "code",
        "colab": {
          "base_uri": "https://localhost:8080/",
          "height": 328
        },
        "outputId": "d498464c-6edd-4d35-d390-78a62ccb1ca9"
      },
      "cell_type": "code",
      "source": [
        "dataset_undertow.head()\n"
      ],
      "execution_count": 37,
      "outputs": [
        {
          "output_type": "execute_result",
          "data": {
            "text/html": [
              "<div>\n",
              "<style scoped>\n",
              "    .dataframe tbody tr th:only-of-type {\n",
              "        vertical-align: middle;\n",
              "    }\n",
              "\n",
              "    .dataframe tbody tr th {\n",
              "        vertical-align: top;\n",
              "    }\n",
              "\n",
              "    .dataframe thead th {\n",
              "        text-align: right;\n",
              "    }\n",
              "</style>\n",
              "<table border=\"1\" class=\"dataframe\">\n",
              "  <thead>\n",
              "    <tr style=\"text-align: right;\">\n",
              "      <th></th>\n",
              "      <th>timeStamp</th>\n",
              "      <th>elapsed</th>\n",
              "      <th>label</th>\n",
              "      <th>responseCode</th>\n",
              "      <th>responseMessage</th>\n",
              "      <th>threadName</th>\n",
              "      <th>dataType</th>\n",
              "      <th>success</th>\n",
              "      <th>failureMessage</th>\n",
              "      <th>bytes</th>\n",
              "      <th>...</th>\n",
              "      <th>Filename</th>\n",
              "      <th>Latency</th>\n",
              "      <th>Encoding</th>\n",
              "      <th>SampleCount</th>\n",
              "      <th>ErrorCount</th>\n",
              "      <th>Hostname</th>\n",
              "      <th>IdleTime</th>\n",
              "      <th>Connect</th>\n",
              "      <th>type</th>\n",
              "      <th>number</th>\n",
              "    </tr>\n",
              "  </thead>\n",
              "  <tbody>\n",
              "    <tr>\n",
              "      <th>0</th>\n",
              "      <td>16:23:47</td>\n",
              "      <td>1310</td>\n",
              "      <td>GetItemPrice</td>\n",
              "      <td>200</td>\n",
              "      <td>OK</td>\n",
              "      <td>IP 1-2</td>\n",
              "      <td>text</td>\n",
              "      <td>True</td>\n",
              "      <td>NaN</td>\n",
              "      <td>1293</td>\n",
              "      <td>...</td>\n",
              "      <td>NaN</td>\n",
              "      <td>1309</td>\n",
              "      <td>ISO-8859-1</td>\n",
              "      <td>1</td>\n",
              "      <td>0</td>\n",
              "      <td>APC-solujan</td>\n",
              "      <td>0</td>\n",
              "      <td>0</td>\n",
              "      <td>under_4_8</td>\n",
              "      <td>1</td>\n",
              "    </tr>\n",
              "    <tr>\n",
              "      <th>1</th>\n",
              "      <td>16:23:47</td>\n",
              "      <td>1340</td>\n",
              "      <td>GetItemPrice</td>\n",
              "      <td>200</td>\n",
              "      <td>OK</td>\n",
              "      <td>IP 1-6</td>\n",
              "      <td>text</td>\n",
              "      <td>True</td>\n",
              "      <td>NaN</td>\n",
              "      <td>1293</td>\n",
              "      <td>...</td>\n",
              "      <td>NaN</td>\n",
              "      <td>1340</td>\n",
              "      <td>ISO-8859-1</td>\n",
              "      <td>1</td>\n",
              "      <td>0</td>\n",
              "      <td>APC-solujan</td>\n",
              "      <td>0</td>\n",
              "      <td>0</td>\n",
              "      <td>under_4_8</td>\n",
              "      <td>2</td>\n",
              "    </tr>\n",
              "    <tr>\n",
              "      <th>2</th>\n",
              "      <td>16:23:47</td>\n",
              "      <td>1354</td>\n",
              "      <td>GetItemPrice</td>\n",
              "      <td>200</td>\n",
              "      <td>OK</td>\n",
              "      <td>IP 1-1</td>\n",
              "      <td>text</td>\n",
              "      <td>True</td>\n",
              "      <td>NaN</td>\n",
              "      <td>1293</td>\n",
              "      <td>...</td>\n",
              "      <td>NaN</td>\n",
              "      <td>1354</td>\n",
              "      <td>ISO-8859-1</td>\n",
              "      <td>1</td>\n",
              "      <td>0</td>\n",
              "      <td>APC-solujan</td>\n",
              "      <td>0</td>\n",
              "      <td>0</td>\n",
              "      <td>under_4_8</td>\n",
              "      <td>3</td>\n",
              "    </tr>\n",
              "    <tr>\n",
              "      <th>3</th>\n",
              "      <td>16:23:47</td>\n",
              "      <td>1350</td>\n",
              "      <td>GetItemPrice</td>\n",
              "      <td>200</td>\n",
              "      <td>OK</td>\n",
              "      <td>IP 1-10</td>\n",
              "      <td>text</td>\n",
              "      <td>True</td>\n",
              "      <td>NaN</td>\n",
              "      <td>1293</td>\n",
              "      <td>...</td>\n",
              "      <td>NaN</td>\n",
              "      <td>1350</td>\n",
              "      <td>ISO-8859-1</td>\n",
              "      <td>1</td>\n",
              "      <td>0</td>\n",
              "      <td>APC-solujan</td>\n",
              "      <td>0</td>\n",
              "      <td>0</td>\n",
              "      <td>under_4_8</td>\n",
              "      <td>4</td>\n",
              "    </tr>\n",
              "    <tr>\n",
              "      <th>4</th>\n",
              "      <td>16:23:47</td>\n",
              "      <td>1447</td>\n",
              "      <td>GetItemPrice</td>\n",
              "      <td>200</td>\n",
              "      <td>OK</td>\n",
              "      <td>IP 1-9</td>\n",
              "      <td>text</td>\n",
              "      <td>True</td>\n",
              "      <td>NaN</td>\n",
              "      <td>1293</td>\n",
              "      <td>...</td>\n",
              "      <td>NaN</td>\n",
              "      <td>1447</td>\n",
              "      <td>ISO-8859-1</td>\n",
              "      <td>1</td>\n",
              "      <td>0</td>\n",
              "      <td>APC-solujan</td>\n",
              "      <td>0</td>\n",
              "      <td>0</td>\n",
              "      <td>under_4_8</td>\n",
              "      <td>5</td>\n",
              "    </tr>\n",
              "  </tbody>\n",
              "</table>\n",
              "<p>5 rows × 23 columns</p>\n",
              "</div>"
            ],
            "text/plain": [
              "  timeStamp  elapsed         label  responseCode responseMessage threadName  \\\n",
              "0  16:23:47     1310  GetItemPrice           200              OK     IP 1-2   \n",
              "1  16:23:47     1340  GetItemPrice           200              OK     IP 1-6   \n",
              "2  16:23:47     1354  GetItemPrice           200              OK     IP 1-1   \n",
              "3  16:23:47     1350  GetItemPrice           200              OK    IP 1-10   \n",
              "4  16:23:47     1447  GetItemPrice           200              OK     IP 1-9   \n",
              "\n",
              "  dataType  success  failureMessage  bytes  ...  Filename  Latency  \\\n",
              "0     text     True             NaN   1293  ...       NaN     1309   \n",
              "1     text     True             NaN   1293  ...       NaN     1340   \n",
              "2     text     True             NaN   1293  ...       NaN     1354   \n",
              "3     text     True             NaN   1293  ...       NaN     1350   \n",
              "4     text     True             NaN   1293  ...       NaN     1447   \n",
              "\n",
              "     Encoding  SampleCount  ErrorCount     Hostname  IdleTime  Connect  \\\n",
              "0  ISO-8859-1            1           0  APC-solujan         0        0   \n",
              "1  ISO-8859-1            1           0  APC-solujan         0        0   \n",
              "2  ISO-8859-1            1           0  APC-solujan         0        0   \n",
              "3  ISO-8859-1            1           0  APC-solujan         0        0   \n",
              "4  ISO-8859-1            1           0  APC-solujan         0        0   \n",
              "\n",
              "        type  number  \n",
              "0  under_4_8       1  \n",
              "1  under_4_8       2  \n",
              "2  under_4_8       3  \n",
              "3  under_4_8       4  \n",
              "4  under_4_8       5  \n",
              "\n",
              "[5 rows x 23 columns]"
            ]
          },
          "metadata": {
            "tags": []
          },
          "execution_count": 37
        }
      ]
    },
    {
      "metadata": {
        "id": "0ggjJSk7e5IN",
        "colab_type": "code",
        "colab": {
          "base_uri": "https://localhost:8080/",
          "height": 392
        },
        "outputId": "0c96f34a-3cd1-4695-8e55-b75e625e5441"
      },
      "cell_type": "code",
      "source": [
        "plt.figure(figsize=(10,6))\n",
        "seaborn.lineplot(data=dataset_undertow, x='number', y='elapsed', hue='type')\n",
        "seaborn.despine()"
      ],
      "execution_count": 38,
      "outputs": [
        {
          "output_type": "display_data",
          "data": {
            "image/png": "[encoded data removed]",
            "text/plain": [
              "<Figure size 720x432 with 1 Axes>"
            ]
          },
          "metadata": {
            "tags": []
          }
        }
      ]
    },
    {
      "metadata": {
        "id": "WxFvcUewfHDj",
        "colab_type": "code",
        "colab": {}
      },
      "cell_type": "code",
      "source": [
        ""
      ],
      "execution_count": 0,
      "outputs": []
    },
    {
      "metadata": {
        "id": "U-VJAky0jDH9",
        "colab_type": "text"
      },
      "cell_type": "markdown",
      "source": [
        "Analisis de 15 Threads\n",
        "Precondiciones:\n",
        "\n",
        "60 segundos\n",
        "15 Threds\n",
        "dev environment"
      ]
    }
  ]
}